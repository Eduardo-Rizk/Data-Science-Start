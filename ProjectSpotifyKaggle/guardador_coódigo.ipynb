{
 "cells": [
  {
   "cell_type": "code",
   "execution_count": null,
   "metadata": {},
   "outputs": [],
   "source": []
  },
  {
   "cell_type": "markdown",
   "metadata": {},
   "source": [
    "#### Criando uma coluna que relaciona o ritmo da música com o gênero e a chance de ser hit"
   ]
  },
  {
   "cell_type": "code",
   "execution_count": null,
   "metadata": {},
   "outputs": [],
   "source": [
    "Num_Muicas_porGenre_timesignature = df.groupby(['track_genre','time_signature']).size().reset_index(name = 'Num_Muicas_porGenre_timesignature')\n",
    "Num_Muicas_porGenre_timesignature\n",
    "\n",
    "\n",
    "Num_Hits_porGenre_timesignature = df[df['popularity_target'] == 1].groupby(['track_genre','time_signature']).size().reset_index(name = 'Num_Hits_porGenre_timesignature')\n",
    "\n",
    "\n",
    "Num_Hits_porGenre_timesignature\n",
    "\n",
    "\n",
    "# Mesclar as contagens de total de músicas e hits de volta ao DataFrame\n",
    "df = df.merge(Num_Muicas_porGenre_timesignature, on=['track_genre', 'time_signature'], how='left')\n",
    "df = df.merge(Num_Hits_porGenre_timesignature, on=['track_genre', 'time_signature'], how='left')\n",
    "df['Num_Muicas_porGenre_timesignature'] = df['Num_Muicas_porGenre_timesignature'].fillna(0).astype(int)\n",
    "df['Num_Hits_porGenre_timesignature'] = df['Num_Hits_porGenre_timesignature'].fillna(0).astype(int)\n",
    "\n",
    "# Calcular a porcentagem de hits por intervalo\n",
    "df['totalHit_%_perGenre_and_timesignature'] = (df['Num_Hits_porGenre_timesignature'] / df['Num_Muicas_porGenre_timesignature'] * 100).round(2)\n",
    "\n",
    "df.drop(columns=['Num_Hits_porGenre_timesignature','Num_Muicas_porGenre_timesignature'],inplace=True)"
   ]
  },
  {
   "cell_type": "markdown",
   "metadata": {},
   "source": [
    "#### Criando a coluna que relaciona o tempo da musica com porcentagem de hits nesse intervalo"
   ]
  },
  {
   "cell_type": "code",
   "execution_count": null,
   "metadata": {},
   "outputs": [],
   "source": [
    "import pandas as pd\n",
    "\n",
    "# Definir os intervalos (bins) para a duração em ms, incluindo três grupos\n",
    "bins = [0, 150000, 240000, float('inf')]  # até 2:30, até 4:00, e acima de 4:00\n",
    "labels = ['Até 2.30 min', 'Até 4 min', 'Acima de 4 min']\n",
    "\n",
    "# Criar uma nova coluna com os intervalos de duração cumulativos\n",
    "df['duration_range_cumulative'] = pd.cut(df['duration_ms'], bins=bins, labels=labels, include_lowest=True, right=True)\n",
    "\n",
    "# Contar o número total de músicas por intervalo de duração cumulativo\n",
    "musicas_por_intervalo = df.groupby('duration_range_cumulative').size().reset_index(name='total_musicas')\n",
    "\n",
    "# Contar o número de hits por intervalo de duração cumulativo\n",
    "hits_por_intervalo = df[df['popularity_target'] == 1].groupby('duration_range_cumulative').size().reset_index(name='total_hits')\n",
    "\n",
    "# Mesclar as contagens de total de músicas e hits por intervalo de volta ao DataFrame\n",
    "df = df.merge(musicas_por_intervalo, on='duration_range_cumulative', how='left')\n",
    "df = df.merge(hits_por_intervalo, on='duration_range_cumulative', how='left')\n",
    "\n",
    "# Preencher valores NaN com 0 (caso algum intervalo não tenha hits)\n",
    "df['total_hits'] = df['total_hits'].fillna(0).astype(int)\n",
    "\n",
    "# Calcular a porcentagem de hits por intervalo\n",
    "df['totalHit_%_perDurationRange'] = (df['total_hits'] / df['total_musicas'] * 100).round(2)\n",
    "\n",
    "# Verificar o resultado\n",
    "df.drop(columns=[\"total_musicas\",'total_hits'],inplace = True)\n"
   ]
  },
  {
   "cell_type": "markdown",
   "metadata": {},
   "source": [
    "#### Criando a coluna que relaciona o genero pelo numero de hits nele"
   ]
  },
  {
   "cell_type": "code",
   "execution_count": null,
   "metadata": {},
   "outputs": [],
   "source": [
    "hits_por_genero = df[df['popularity_target'] == 1].groupby('track_genre').size().reset_index(name= 'total_musicas_genero')\n",
    "\n",
    "# Contar o número total de músicas por gênero\n",
    "musicas_por_genero = df.groupby('track_genre').size().reset_index(name='total_musicas_genero')\n",
    "\n",
    "# Contar o número de hits por gênero\n",
    "hits_por_genero = df[df['popularity_target'] == 1].groupby('track_genre').size().reset_index(name='total_hits_genero')\n",
    "\n",
    "# Mesclar as contagens de total de músicas e hits por gênero de volta ao DataFrame original\n",
    "df = df.merge(musicas_por_genero, on='track_genre', how='left')\n",
    "df = df.merge(hits_por_genero, on='track_genre', how='left')\n",
    "\n",
    "df['Genero/HitEm%'] = (df['total_hits_genero'] / df['total_musicas_genero'] * 100).round(2)"
   ]
  },
  {
   "cell_type": "markdown",
   "metadata": {},
   "source": [
    "## Colocando o modelo em produção fazendo as previsões"
   ]
  },
  {
   "cell_type": "code",
   "execution_count": null,
   "metadata": {},
   "outputs": [],
   "source": [
    "df_teste = df_teste.merge(Num_Muicas_porGenre_timesignature, on=['track_genre', 'time_signature'], how='left')\n",
    "df_teste = df_teste.merge(Num_Hits_porGenre_timesignature, on=['track_genre', 'time_signature'], how='left')\n",
    "\n",
    "df_teste['Num_Muicas_porGenre_timesignature'] = df_teste['Num_Muicas_porGenre_timesignature'].fillna(0).astype(int)\n",
    "df_teste['Num_Hits_porGenre_timesignature'] = df_teste['Num_Hits_porGenre_timesignature'].fillna(0).astype(int)\n",
    "\n",
    "# Calcular a porcentagem de hits por intervalo\n",
    "df_teste['totalHit_%_perGenre_and_timesignature'] = (df_teste['Num_Hits_porGenre_timesignature'] / df_teste['Num_Muicas_porGenre_timesignature'] * 100).round(2)\n",
    "df_teste['totalHit_%_perGenre_and_timesignature'] = df_teste['totalHit_%_perGenre_and_timesignature'].fillna(0).astype(int)\n",
    "\n",
    "\n",
    "df_teste.drop(columns=['Num_Hits_porGenre_timesignature','Num_Muicas_porGenre_timesignature'],inplace=True)"
   ]
  },
  {
   "cell_type": "code",
   "execution_count": null,
   "metadata": {},
   "outputs": [],
   "source": [
    "# Verificar combinações únicas no treino e teste\n",
    "combinacoes_treino = df[['track_genre', 'time_signature']].drop_duplicates()\n",
    "combinacoes_teste = df_teste[['track_genre', 'time_signature']].drop_duplicates()\n",
    "\n",
    "# Combinações no teste que não estão no treino\n",
    "combinacoes_unicas_teste = combinacoes_teste[~combinacoes_teste.isin(combinacoes_treino.to_dict(orient='list')).all(axis=1)]\n",
    "print(combinacoes_unicas_teste)\n"
   ]
  },
  {
   "cell_type": "code",
   "execution_count": null,
   "metadata": {},
   "outputs": [],
   "source": [
    "\n",
    "# Transferir as métricas calculadas para o conjunto de teste\n",
    "df_teste = df_teste.merge(musicas_por_genero, on='track_genre', how='left')\n",
    "df_teste = df_teste.merge(hits_por_genero, on='track_genre', how='left')\n",
    "\n",
    "df_teste['total_hits_genero'] = df_teste['total_hits_genero'].fillna(0).astype(int)\n",
    "df_teste['total_musicas_genero'] = df_teste['total_musicas_genero'].fillna(0).astype(int)\n",
    "\n",
    "df_teste['Genero/HitEm%'] = (df_teste['total_hits_genero'] / df_teste['total_musicas_genero'] * 100).round(2)"
   ]
  },
  {
   "cell_type": "code",
   "execution_count": null,
   "metadata": {},
   "outputs": [],
   "source": [
    "\n",
    "df_teste['duration_range_cumulative'] = pd.cut(df_teste['duration_ms'], bins=bins, labels=labels, include_lowest=True, right=True)\n",
    "\n",
    "\n",
    "\n",
    "df_teste = df_teste.merge(musicas_por_intervalo, on='duration_range_cumulative', how='left')\n",
    "df_teste = df_teste.merge(hits_por_intervalo, on='duration_range_cumulative', how='left')\n",
    "\n",
    "df_teste['total_hits'] = df_teste['total_hits'].fillna(0).astype(int)\n",
    "df_teste['total_musicas'] = df_teste['total_musicas'].fillna(0).astype(int)\n",
    "\n",
    "df_teste['totalHit_%_perDurationRange'] = (df_teste['total_hits'] / df_teste['total_musicas'] * 100).round(2)"
   ]
  },
  {
   "cell_type": "code",
   "execution_count": null,
   "metadata": {},
   "outputs": [],
   "source": [
    "\n",
    "df_teste['Genero/HitEm%'].fillna(0, inplace=True)\n",
    "df_teste['Energy_Genre'].fillna(df_teste['Energy_Genre'].mean(), inplace=True)  # se fizer sentido"
   ]
  },
  {
   "cell_type": "code",
   "execution_count": null,
   "metadata": {},
   "outputs": [],
   "source": [
    "# Identificar as colunas novas que foram criadas e que contêm zeros a serem substituídos\n",
    "colunas_novas = [\n",
    "    'Genero/HitEm%', 'Energy_Genre', 'totalHit_%_perDurationRange', \n",
    "    'totalHit_%_perGenre_and_timesignature'\n",
    "]\n",
    "\n",
    "# Substituir os zeros pela mediana de cada coluna nova\n",
    "for coluna in colunas_novas:\n",
    "    mediana = df_teste[coluna].median()  # Calcular a mediana da coluna\n",
    "    df_teste[coluna] = df_teste[coluna].replace(0, mediana)  # Substituir zeros pela mediana\n",
    "\n",
    "# Verificar o resultado\n",
    "print(df_teste[colunas_novas].head())"
   ]
  }
 ],
 "metadata": {
  "language_info": {
   "name": "python"
  }
 },
 "nbformat": 4,
 "nbformat_minor": 2
}
